{
 "cells": [
  {
   "cell_type": "code",
   "execution_count": 1,
   "id": "3e43f9eb",
   "metadata": {},
   "outputs": [],
   "source": [
    "from sklearn.model_selection import train_test_split\n",
    "from sklearn.ensemble import RandomForestRegressor\n",
    "from sklearn.metrics import mean_squared_error, r2_score\n",
    "\n",
    "seed = 1967\n"
   ]
  },
  {
   "cell_type": "code",
   "execution_count": 2,
   "id": "8fc310fe",
   "metadata": {},
   "outputs": [],
   "source": [
    "Subdirs: list[str] = [\n",
    "    \"Digital_Music\", \"Magazine_Subscriptions\", \"Musical_Instruments\", \"Patio_Lawn_and_Garden\", \"Software\"\n",
    "]\n",
    "\n"
   ]
  },
  {
   "cell_type": "code",
   "execution_count": 3,
   "id": "40f208ad",
   "metadata": {
    "vscode": {
     "languageId": "ruby"
    }
   },
   "outputs": [],
   "source": [
    "import csv\n",
    "\n",
    "X_train: list[float, float, float, float] = []\n",
    "y_train: list[float] = []\n",
    "X_test: list[float, float, float, float] = []\n",
    "y_test: list[float] = []\n",
    "\n",
    "rows: list[str] = []\n",
    "\n",
    "for subdir in Subdirs:\n",
    "    file_path = f\"data/{subdir}/1967/results.csv\"\n",
    "    with open(file_path, 'r') as file:\n",
    "        # Read the CSV file\n",
    "        reader = csv.reader(file)\n",
    "        header = next(reader)  # Read the header row\n",
    "        # Create a new list to store the filtered rows\n",
    "        filtered_rows = []\n",
    "        for row in reader:\n",
    "            rows.append(row)  # Append the row to the rows list\n",
    "    file.close()\n",
    "    type_index = header.index('type')\n",
    "    # Create training and test lists.\n",
    "    # Training and test data are distringuished by the 'type' column, 'tr' for training and 'te' for test.\n",
    "    # For training data, put O-score,L-scoreP,L-scoreM,L-scoreN into X_train, Y into y_train\n",
    "    # For test data, put O-score,L-scoreP,L-scoreM,L-scoreN into X_test, Y into y_test\n",
    "    for row in rows:\n",
    "        if row[type_index] == 'tr':\n",
    "            X_train.append([float(row[header.index('O-score')]), float(row[header.index('L-scoreP')]), float(row[header.index('L-scoreM')]), float(row[header.index('L-scoreN')])])\n",
    "            y_train.append(float(row[header.index('Y')]))\n",
    "        elif row[type_index] == 'te':\n",
    "            X_test.append([float(row[header.index('O-score')]), float(row[header.index('L-scoreP')]), float(row[header.index('L-scoreM')]), float(row[header.index('L-scoreN')])])\n",
    "            y_test.append(float(row[header.index('Y')]))\n"
   ]
  },
  {
   "cell_type": "code",
   "execution_count": 4,
   "id": "0ab7fd00",
   "metadata": {},
   "outputs": [
    {
     "name": "stdout",
     "output_type": "stream",
     "text": [
      "Mean Squared Error: 0.63\n",
      "R^2 Score: 0.72\n"
     ]
    }
   ],
   "source": [
    "\n",
    "# Train a Random Forest Regressor\n",
    "model = RandomForestRegressor(random_state=seed)\n",
    "model.fit(X=X_train, y=y_train)\n",
    "\n",
    "# Make predictions on the test set\n",
    "Y_pred = model.predict(X= X_test)\n",
    "\n",
    "# Evaluate the model\n",
    "mse = mean_squared_error(y_true= y_test, y_pred=Y_pred)\n",
    "r2 = r2_score(y_test, Y_pred)\n",
    "\n",
    "print(f\"Mean Squared Error: {mse:.2f}\")\n",
    "print(f\"R^2 Score: {r2:.2f}\")"
   ]
  },
  {
   "cell_type": "code",
   "execution_count": 10,
   "id": "822ccabd",
   "metadata": {
    "vscode": {
     "languageId": "ruby"
    }
   },
   "outputs": [],
   "source": [
    "modifiedRows: list[str] = []\n",
    "\n",
    "for row in rows:\n",
    "    # for 'te' rows, replace the Y-pred value with that obtained from the model\n",
    "    if row[type_index] == 'te':\n",
    "        Xsample = [float(row[header.index('O-score')]), float(row[header.index('L-scoreP')]), float(row[header.index('L-scoreM')]), float(row[header.index('L-scoreN')])]\n",
    "        y_pred = model.predict([Xsample])\n",
    "        # Replace the Y value with the predicted value\n",
    "        row[header.index('Y-pred')] = f\"{y_pred[0]:.2f}\"\n",
    "    # Append the modified row to the rows list\n",
    "    modifiedRows.append(row)\n",
    "\n",
    "# Write the contents of all files into a new CSV file\n",
    "with open('data/overall_results.csv', 'w', newline='') as file:\n",
    "    writer = csv.writer(file)\n",
    "    writer.writerow(header)\n",
    "    writer.writerows(modifiedRows)\n",
    "file.close()\n"
   ]
  },
  {
   "cell_type": "code",
   "execution_count": 6,
   "id": "b52abf81",
   "metadata": {},
   "outputs": [
    {
     "name": "stdout",
     "output_type": "stream",
     "text": [
      "Model saved successfully.\n"
     ]
    }
   ],
   "source": [
    "import pickle\n",
    "\n",
    "# Save the model to a file\n",
    "with open('random_forest_model.pkl', 'wb') as model_file:\n",
    "    pickle.dump(model, model_file)\n",
    "\n",
    "print(\"Model saved successfully.\")"
   ]
  }
 ],
 "metadata": {
  "kernelspec": {
   "display_name": "LDA",
   "language": "python",
   "name": "python3"
  },
  "language_info": {
   "codemirror_mode": {
    "name": "ipython",
    "version": 3
   },
   "file_extension": ".py",
   "mimetype": "text/x-python",
   "name": "python",
   "nbconvert_exporter": "python",
   "pygments_lexer": "ipython3",
   "version": "3.12.9"
  }
 },
 "nbformat": 4,
 "nbformat_minor": 5
}
